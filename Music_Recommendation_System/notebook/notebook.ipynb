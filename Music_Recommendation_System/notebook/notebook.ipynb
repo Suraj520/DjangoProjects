{
 "cells": [
  {
   "attachments": {},
   "cell_type": "markdown",
   "metadata": {},
   "source": [
    "#### Exploratory Data Analysis"
   ]
  },
  {
   "cell_type": "code",
   "execution_count": 1,
   "metadata": {},
   "outputs": [],
   "source": [
    "import pandas as pd\n",
    "import numpy as np\n",
    "import random\n",
    "import pickle as pkl\n",
    "import bz2\n",
    "import _pickle as cPickle\n"
   ]
  },
  {
   "cell_type": "code",
   "execution_count": 2,
   "metadata": {},
   "outputs": [],
   "source": [
    "artist_data_path = \"/home/suraj/ClickUp/Jan-Feb/Django Projects/DjangoProjects/Music_Recommendation_System/data/data/data_by_artist.csv\""
   ]
  },
  {
   "cell_type": "code",
   "execution_count": 3,
   "metadata": {},
   "outputs": [],
   "source": [
    "music_data = pd.read_csv(artist_data_path)\n"
   ]
  },
  {
   "cell_type": "code",
   "execution_count": 4,
   "metadata": {},
   "outputs": [
    {
     "data": {
      "text/html": [
       "<div>\n",
       "<style scoped>\n",
       "    .dataframe tbody tr th:only-of-type {\n",
       "        vertical-align: middle;\n",
       "    }\n",
       "\n",
       "    .dataframe tbody tr th {\n",
       "        vertical-align: top;\n",
       "    }\n",
       "\n",
       "    .dataframe thead th {\n",
       "        text-align: right;\n",
       "    }\n",
       "</style>\n",
       "<table border=\"1\" class=\"dataframe\">\n",
       "  <thead>\n",
       "    <tr style=\"text-align: right;\">\n",
       "      <th></th>\n",
       "      <th>mode</th>\n",
       "      <th>count</th>\n",
       "      <th>acousticness</th>\n",
       "      <th>artists</th>\n",
       "      <th>danceability</th>\n",
       "      <th>duration_ms</th>\n",
       "      <th>energy</th>\n",
       "      <th>instrumentalness</th>\n",
       "      <th>liveness</th>\n",
       "      <th>loudness</th>\n",
       "      <th>speechiness</th>\n",
       "      <th>tempo</th>\n",
       "      <th>valence</th>\n",
       "      <th>popularity</th>\n",
       "      <th>key</th>\n",
       "    </tr>\n",
       "  </thead>\n",
       "  <tbody>\n",
       "    <tr>\n",
       "      <th>0</th>\n",
       "      <td>1</td>\n",
       "      <td>9</td>\n",
       "      <td>0.590111</td>\n",
       "      <td>\"Cats\" 1981 Original London Cast</td>\n",
       "      <td>0.467222</td>\n",
       "      <td>250318.555556</td>\n",
       "      <td>0.394003</td>\n",
       "      <td>0.011400</td>\n",
       "      <td>0.290833</td>\n",
       "      <td>-14.448000</td>\n",
       "      <td>0.210389</td>\n",
       "      <td>117.518111</td>\n",
       "      <td>0.389500</td>\n",
       "      <td>38.333333</td>\n",
       "      <td>5</td>\n",
       "    </tr>\n",
       "    <tr>\n",
       "      <th>1</th>\n",
       "      <td>1</td>\n",
       "      <td>26</td>\n",
       "      <td>0.862538</td>\n",
       "      <td>\"Cats\" 1983 Broadway Cast</td>\n",
       "      <td>0.441731</td>\n",
       "      <td>287280.000000</td>\n",
       "      <td>0.406808</td>\n",
       "      <td>0.081158</td>\n",
       "      <td>0.315215</td>\n",
       "      <td>-10.690000</td>\n",
       "      <td>0.176212</td>\n",
       "      <td>103.044154</td>\n",
       "      <td>0.268865</td>\n",
       "      <td>30.576923</td>\n",
       "      <td>5</td>\n",
       "    </tr>\n",
       "    <tr>\n",
       "      <th>2</th>\n",
       "      <td>1</td>\n",
       "      <td>7</td>\n",
       "      <td>0.856571</td>\n",
       "      <td>\"Fiddler On The Roof” Motion Picture Chorus</td>\n",
       "      <td>0.348286</td>\n",
       "      <td>328920.000000</td>\n",
       "      <td>0.286571</td>\n",
       "      <td>0.024593</td>\n",
       "      <td>0.325786</td>\n",
       "      <td>-15.230714</td>\n",
       "      <td>0.118514</td>\n",
       "      <td>77.375857</td>\n",
       "      <td>0.354857</td>\n",
       "      <td>34.857143</td>\n",
       "      <td>0</td>\n",
       "    </tr>\n",
       "    <tr>\n",
       "      <th>3</th>\n",
       "      <td>1</td>\n",
       "      <td>27</td>\n",
       "      <td>0.884926</td>\n",
       "      <td>\"Fiddler On The Roof” Motion Picture Orchestra</td>\n",
       "      <td>0.425074</td>\n",
       "      <td>262890.962963</td>\n",
       "      <td>0.245770</td>\n",
       "      <td>0.073587</td>\n",
       "      <td>0.275481</td>\n",
       "      <td>-15.639370</td>\n",
       "      <td>0.123200</td>\n",
       "      <td>88.667630</td>\n",
       "      <td>0.372030</td>\n",
       "      <td>34.851852</td>\n",
       "      <td>0</td>\n",
       "    </tr>\n",
       "    <tr>\n",
       "      <th>4</th>\n",
       "      <td>1</td>\n",
       "      <td>7</td>\n",
       "      <td>0.510714</td>\n",
       "      <td>\"Joseph And The Amazing Technicolor Dreamcoat\"...</td>\n",
       "      <td>0.467143</td>\n",
       "      <td>270436.142857</td>\n",
       "      <td>0.488286</td>\n",
       "      <td>0.009400</td>\n",
       "      <td>0.195000</td>\n",
       "      <td>-10.236714</td>\n",
       "      <td>0.098543</td>\n",
       "      <td>122.835857</td>\n",
       "      <td>0.482286</td>\n",
       "      <td>43.000000</td>\n",
       "      <td>5</td>\n",
       "    </tr>\n",
       "  </tbody>\n",
       "</table>\n",
       "</div>"
      ],
      "text/plain": [
       "   mode  count  acousticness  \\\n",
       "0     1      9      0.590111   \n",
       "1     1     26      0.862538   \n",
       "2     1      7      0.856571   \n",
       "3     1     27      0.884926   \n",
       "4     1      7      0.510714   \n",
       "\n",
       "                                             artists  danceability  \\\n",
       "0                   \"Cats\" 1981 Original London Cast      0.467222   \n",
       "1                          \"Cats\" 1983 Broadway Cast      0.441731   \n",
       "2        \"Fiddler On The Roof” Motion Picture Chorus      0.348286   \n",
       "3     \"Fiddler On The Roof” Motion Picture Orchestra      0.425074   \n",
       "4  \"Joseph And The Amazing Technicolor Dreamcoat\"...      0.467143   \n",
       "\n",
       "     duration_ms    energy  instrumentalness  liveness   loudness  \\\n",
       "0  250318.555556  0.394003          0.011400  0.290833 -14.448000   \n",
       "1  287280.000000  0.406808          0.081158  0.315215 -10.690000   \n",
       "2  328920.000000  0.286571          0.024593  0.325786 -15.230714   \n",
       "3  262890.962963  0.245770          0.073587  0.275481 -15.639370   \n",
       "4  270436.142857  0.488286          0.009400  0.195000 -10.236714   \n",
       "\n",
       "   speechiness       tempo   valence  popularity  key  \n",
       "0     0.210389  117.518111  0.389500   38.333333    5  \n",
       "1     0.176212  103.044154  0.268865   30.576923    5  \n",
       "2     0.118514   77.375857  0.354857   34.857143    0  \n",
       "3     0.123200   88.667630  0.372030   34.851852    0  \n",
       "4     0.098543  122.835857  0.482286   43.000000    5  "
      ]
     },
     "execution_count": 4,
     "metadata": {},
     "output_type": "execute_result"
    }
   ],
   "source": [
    "music_data.head()"
   ]
  },
  {
   "cell_type": "code",
   "execution_count": 5,
   "metadata": {},
   "outputs": [
    {
     "name": "stdout",
     "output_type": "stream",
     "text": [
      "<class 'pandas.core.frame.DataFrame'>\n",
      "RangeIndex: 28680 entries, 0 to 28679\n",
      "Data columns (total 15 columns):\n",
      " #   Column            Non-Null Count  Dtype  \n",
      "---  ------            --------------  -----  \n",
      " 0   mode              28680 non-null  int64  \n",
      " 1   count             28680 non-null  int64  \n",
      " 2   acousticness      28680 non-null  float64\n",
      " 3   artists           28680 non-null  object \n",
      " 4   danceability      28680 non-null  float64\n",
      " 5   duration_ms       28680 non-null  float64\n",
      " 6   energy            28680 non-null  float64\n",
      " 7   instrumentalness  28680 non-null  float64\n",
      " 8   liveness          28680 non-null  float64\n",
      " 9   loudness          28680 non-null  float64\n",
      " 10  speechiness       28680 non-null  float64\n",
      " 11  tempo             28680 non-null  float64\n",
      " 12  valence           28680 non-null  float64\n",
      " 13  popularity        28680 non-null  float64\n",
      " 14  key               28680 non-null  int64  \n",
      "dtypes: float64(11), int64(3), object(1)\n",
      "memory usage: 3.3+ MB\n"
     ]
    }
   ],
   "source": [
    "music_data.info()"
   ]
  },
  {
   "cell_type": "code",
   "execution_count": 6,
   "metadata": {},
   "outputs": [
    {
     "data": {
      "text/plain": [
       "0        38.333333\n",
       "1        30.576923\n",
       "2        34.857143\n",
       "3        34.851852\n",
       "4        43.000000\n",
       "           ...    \n",
       "28675    35.000000\n",
       "28676    48.000000\n",
       "28677    23.000000\n",
       "28678    35.000000\n",
       "28679    31.000000\n",
       "Name: popularity, Length: 28680, dtype: float64"
      ]
     },
     "execution_count": 6,
     "metadata": {},
     "output_type": "execute_result"
    }
   ],
   "source": [
    "music_data['popularity']"
   ]
  },
  {
   "cell_type": "code",
   "execution_count": 7,
   "metadata": {},
   "outputs": [
    {
     "data": {
      "text/plain": [
       "array([[<AxesSubplot:title={'center':'popularity'}>]], dtype=object)"
      ]
     },
     "execution_count": 7,
     "metadata": {},
     "output_type": "execute_result"
    },
    {
     "data": {
      "image/png": "[encoded data removed]",
      "text/plain": [
       "<Figure size 640x480 with 1 Axes>"
      ]
     },
     "metadata": {},
     "output_type": "display_data"
    }
   ],
   "source": [
    "#plotting a histogram of data\n",
    "music_data.hist(column='popularity')\n"
   ]
  },
  {
   "cell_type": "code",
   "execution_count": 8,
   "metadata": {},
   "outputs": [
    {
     "name": "stdout",
     "output_type": "stream",
     "text": [
      "Minimum and Maximum values of popularity are 0.0 and 93.0\n"
     ]
    }
   ],
   "source": [
    "# convert popularity metric into a custom rating\n",
    "min_val = music_data['popularity'].min()\n",
    "max_val = music_data['popularity'].max()\n",
    "\n",
    "print(\"Minimum and Maximum values of popularity are {0} and {1}\".format(min_val,max_val))\n"
   ]
  },
  {
   "attachments": {},
   "cell_type": "markdown",
   "metadata": {},
   "source": [
    "Assumption based on popularity index\n",
    "\n",
    "0-20 - 1 star rating\n",
    "20-40 - 2 star rating\n",
    "40-60 - 3 star rating\n",
    "60-80 - 4 star rating\n",
    "80-100 - 5 star rating"
   ]
  },
  {
   "cell_type": "code",
   "execution_count": 9,
   "metadata": {},
   "outputs": [],
   "source": [
    "conditions = [\n",
    "\n",
    "\n",
    "    (music_data['popularity'] < 20),\n",
    "\n",
    "\n",
    "    (music_data['popularity'] >= 20) & (music_data['popularity'] < 40),\n",
    "\n",
    "\n",
    "    (music_data['popularity'] >= 40) & (music_data['popularity'] < 60),\n",
    "\n",
    "\n",
    "    (music_data['popularity'] >= 60) & (music_data['popularity'] < 80),\n",
    "\n",
    "\n",
    "    (music_data['popularity'] >= 90)\n",
    "\n",
    "\n",
    "]"
   ]
  },
  {
   "cell_type": "code",
   "execution_count": 10,
   "metadata": {},
   "outputs": [],
   "source": [
    "ratings = [1, 2, 3, 4, 5]\n",
    "\n"
   ]
  },
  {
   "cell_type": "code",
   "execution_count": 11,
   "metadata": {},
   "outputs": [],
   "source": [
    "music_data['rating'] = np.select(conditions, ratings)\n",
    "\n"
   ]
  },
  {
   "cell_type": "code",
   "execution_count": 12,
   "metadata": {},
   "outputs": [
    {
     "data": {
      "text/plain": [
       "0        2\n",
       "1        2\n",
       "2        2\n",
       "3        2\n",
       "4        3\n",
       "        ..\n",
       "28675    2\n",
       "28676    3\n",
       "28677    2\n",
       "28678    2\n",
       "28679    2\n",
       "Name: rating, Length: 28680, dtype: int64"
      ]
     },
     "execution_count": 12,
     "metadata": {},
     "output_type": "execute_result"
    }
   ],
   "source": [
    "music_data['rating']"
   ]
  },
  {
   "cell_type": "code",
   "execution_count": 13,
   "metadata": {},
   "outputs": [
    {
     "data": {
      "text/plain": [
       "array([[<AxesSubplot:title={'center':'rating'}>]], dtype=object)"
      ]
     },
     "execution_count": 13,
     "metadata": {},
     "output_type": "execute_result"
    },
    {
     "data": {
      "image/png": "[encoded data removed]",
      "text/plain": [
       "<Figure size 640x480 with 1 Axes>"
      ]
     },
     "metadata": {},
     "output_type": "display_data"
    }
   ],
   "source": [
    "music_data.hist(column='rating')\n"
   ]
  },
  {
   "cell_type": "code",
   "execution_count": 14,
   "metadata": {},
   "outputs": [
    {
     "data": {
      "text/plain": [
       "3    10565\n",
       "1     8228\n",
       "2     6522\n",
       "4     3302\n",
       "0       60\n",
       "5        3\n",
       "Name: rating, dtype: int64"
      ]
     },
     "execution_count": 14,
     "metadata": {},
     "output_type": "execute_result"
    }
   ],
   "source": [
    "# peeking into number of ratings of a user\n",
    "music_data['rating'].value_counts()"
   ]
  },
  {
   "cell_type": "code",
   "execution_count": 15,
   "metadata": {},
   "outputs": [
    {
     "data": {
      "text/html": [
       "<div>\n",
       "<style scoped>\n",
       "    .dataframe tbody tr th:only-of-type {\n",
       "        vertical-align: middle;\n",
       "    }\n",
       "\n",
       "    .dataframe tbody tr th {\n",
       "        vertical-align: top;\n",
       "    }\n",
       "\n",
       "    .dataframe thead th {\n",
       "        text-align: right;\n",
       "    }\n",
       "</style>\n",
       "<table border=\"1\" class=\"dataframe\">\n",
       "  <thead>\n",
       "    <tr style=\"text-align: right;\">\n",
       "      <th></th>\n",
       "      <th>mode</th>\n",
       "      <th>count</th>\n",
       "      <th>acousticness</th>\n",
       "      <th>artists</th>\n",
       "      <th>danceability</th>\n",
       "      <th>duration_ms</th>\n",
       "      <th>energy</th>\n",
       "      <th>instrumentalness</th>\n",
       "      <th>liveness</th>\n",
       "      <th>loudness</th>\n",
       "      <th>speechiness</th>\n",
       "      <th>tempo</th>\n",
       "      <th>valence</th>\n",
       "      <th>popularity</th>\n",
       "      <th>key</th>\n",
       "      <th>rating</th>\n",
       "    </tr>\n",
       "  </thead>\n",
       "  <tbody>\n",
       "    <tr>\n",
       "      <th>0</th>\n",
       "      <td>1</td>\n",
       "      <td>9</td>\n",
       "      <td>0.590111</td>\n",
       "      <td>\"Cats\" 1981 Original London Cast</td>\n",
       "      <td>0.467222</td>\n",
       "      <td>250318.555556</td>\n",
       "      <td>0.394003</td>\n",
       "      <td>0.011400</td>\n",
       "      <td>0.290833</td>\n",
       "      <td>-14.448000</td>\n",
       "      <td>0.210389</td>\n",
       "      <td>117.518111</td>\n",
       "      <td>0.389500</td>\n",
       "      <td>38.333333</td>\n",
       "      <td>5</td>\n",
       "      <td>2</td>\n",
       "    </tr>\n",
       "    <tr>\n",
       "      <th>1</th>\n",
       "      <td>1</td>\n",
       "      <td>26</td>\n",
       "      <td>0.862538</td>\n",
       "      <td>\"Cats\" 1983 Broadway Cast</td>\n",
       "      <td>0.441731</td>\n",
       "      <td>287280.000000</td>\n",
       "      <td>0.406808</td>\n",
       "      <td>0.081158</td>\n",
       "      <td>0.315215</td>\n",
       "      <td>-10.690000</td>\n",
       "      <td>0.176212</td>\n",
       "      <td>103.044154</td>\n",
       "      <td>0.268865</td>\n",
       "      <td>30.576923</td>\n",
       "      <td>5</td>\n",
       "      <td>2</td>\n",
       "    </tr>\n",
       "    <tr>\n",
       "      <th>2</th>\n",
       "      <td>1</td>\n",
       "      <td>7</td>\n",
       "      <td>0.856571</td>\n",
       "      <td>\"Fiddler On The Roof” Motion Picture Chorus</td>\n",
       "      <td>0.348286</td>\n",
       "      <td>328920.000000</td>\n",
       "      <td>0.286571</td>\n",
       "      <td>0.024593</td>\n",
       "      <td>0.325786</td>\n",
       "      <td>-15.230714</td>\n",
       "      <td>0.118514</td>\n",
       "      <td>77.375857</td>\n",
       "      <td>0.354857</td>\n",
       "      <td>34.857143</td>\n",
       "      <td>0</td>\n",
       "      <td>2</td>\n",
       "    </tr>\n",
       "    <tr>\n",
       "      <th>3</th>\n",
       "      <td>1</td>\n",
       "      <td>27</td>\n",
       "      <td>0.884926</td>\n",
       "      <td>\"Fiddler On The Roof” Motion Picture Orchestra</td>\n",
       "      <td>0.425074</td>\n",
       "      <td>262890.962963</td>\n",
       "      <td>0.245770</td>\n",
       "      <td>0.073587</td>\n",
       "      <td>0.275481</td>\n",
       "      <td>-15.639370</td>\n",
       "      <td>0.123200</td>\n",
       "      <td>88.667630</td>\n",
       "      <td>0.372030</td>\n",
       "      <td>34.851852</td>\n",
       "      <td>0</td>\n",
       "      <td>2</td>\n",
       "    </tr>\n",
       "    <tr>\n",
       "      <th>4</th>\n",
       "      <td>1</td>\n",
       "      <td>7</td>\n",
       "      <td>0.510714</td>\n",
       "      <td>\"Joseph And The Amazing Technicolor Dreamcoat\"...</td>\n",
       "      <td>0.467143</td>\n",
       "      <td>270436.142857</td>\n",
       "      <td>0.488286</td>\n",
       "      <td>0.009400</td>\n",
       "      <td>0.195000</td>\n",
       "      <td>-10.236714</td>\n",
       "      <td>0.098543</td>\n",
       "      <td>122.835857</td>\n",
       "      <td>0.482286</td>\n",
       "      <td>43.000000</td>\n",
       "      <td>5</td>\n",
       "      <td>3</td>\n",
       "    </tr>\n",
       "    <tr>\n",
       "      <th>...</th>\n",
       "      <td>...</td>\n",
       "      <td>...</td>\n",
       "      <td>...</td>\n",
       "      <td>...</td>\n",
       "      <td>...</td>\n",
       "      <td>...</td>\n",
       "      <td>...</td>\n",
       "      <td>...</td>\n",
       "      <td>...</td>\n",
       "      <td>...</td>\n",
       "      <td>...</td>\n",
       "      <td>...</td>\n",
       "      <td>...</td>\n",
       "      <td>...</td>\n",
       "      <td>...</td>\n",
       "      <td>...</td>\n",
       "    </tr>\n",
       "    <tr>\n",
       "      <th>28675</th>\n",
       "      <td>1</td>\n",
       "      <td>2</td>\n",
       "      <td>0.512000</td>\n",
       "      <td>麥志誠</td>\n",
       "      <td>0.356000</td>\n",
       "      <td>198773.000000</td>\n",
       "      <td>0.306000</td>\n",
       "      <td>0.008970</td>\n",
       "      <td>0.108000</td>\n",
       "      <td>-10.119000</td>\n",
       "      <td>0.027700</td>\n",
       "      <td>150.049000</td>\n",
       "      <td>0.328000</td>\n",
       "      <td>35.000000</td>\n",
       "      <td>10</td>\n",
       "      <td>2</td>\n",
       "    </tr>\n",
       "    <tr>\n",
       "      <th>28676</th>\n",
       "      <td>0</td>\n",
       "      <td>2</td>\n",
       "      <td>0.541000</td>\n",
       "      <td>黃品源</td>\n",
       "      <td>0.578000</td>\n",
       "      <td>293840.000000</td>\n",
       "      <td>0.334000</td>\n",
       "      <td>0.000006</td>\n",
       "      <td>0.067500</td>\n",
       "      <td>-11.974000</td>\n",
       "      <td>0.026700</td>\n",
       "      <td>135.934000</td>\n",
       "      <td>0.243000</td>\n",
       "      <td>48.000000</td>\n",
       "      <td>9</td>\n",
       "      <td>3</td>\n",
       "    </tr>\n",
       "    <tr>\n",
       "      <th>28677</th>\n",
       "      <td>1</td>\n",
       "      <td>11</td>\n",
       "      <td>0.785455</td>\n",
       "      <td>黃國隆</td>\n",
       "      <td>0.570818</td>\n",
       "      <td>174582.727273</td>\n",
       "      <td>0.148400</td>\n",
       "      <td>0.000083</td>\n",
       "      <td>0.142191</td>\n",
       "      <td>-21.610091</td>\n",
       "      <td>0.054355</td>\n",
       "      <td>119.586273</td>\n",
       "      <td>0.741273</td>\n",
       "      <td>23.000000</td>\n",
       "      <td>5</td>\n",
       "      <td>2</td>\n",
       "    </tr>\n",
       "    <tr>\n",
       "      <th>28678</th>\n",
       "      <td>1</td>\n",
       "      <td>2</td>\n",
       "      <td>0.381000</td>\n",
       "      <td>黑豹</td>\n",
       "      <td>0.353000</td>\n",
       "      <td>316160.000000</td>\n",
       "      <td>0.686000</td>\n",
       "      <td>0.000000</td>\n",
       "      <td>0.056800</td>\n",
       "      <td>-9.103000</td>\n",
       "      <td>0.039500</td>\n",
       "      <td>200.341000</td>\n",
       "      <td>0.352000</td>\n",
       "      <td>35.000000</td>\n",
       "      <td>11</td>\n",
       "      <td>2</td>\n",
       "    </tr>\n",
       "    <tr>\n",
       "      <th>28679</th>\n",
       "      <td>1</td>\n",
       "      <td>2</td>\n",
       "      <td>0.568000</td>\n",
       "      <td>조정현</td>\n",
       "      <td>0.447000</td>\n",
       "      <td>237688.000000</td>\n",
       "      <td>0.215000</td>\n",
       "      <td>0.000001</td>\n",
       "      <td>0.064900</td>\n",
       "      <td>-16.478000</td>\n",
       "      <td>0.027200</td>\n",
       "      <td>71.979000</td>\n",
       "      <td>0.177000</td>\n",
       "      <td>31.000000</td>\n",
       "      <td>10</td>\n",
       "      <td>2</td>\n",
       "    </tr>\n",
       "  </tbody>\n",
       "</table>\n",
       "<p>28680 rows × 16 columns</p>\n",
       "</div>"
      ],
      "text/plain": [
       "       mode  count  acousticness  \\\n",
       "0         1      9      0.590111   \n",
       "1         1     26      0.862538   \n",
       "2         1      7      0.856571   \n",
       "3         1     27      0.884926   \n",
       "4         1      7      0.510714   \n",
       "...     ...    ...           ...   \n",
       "28675     1      2      0.512000   \n",
       "28676     0      2      0.541000   \n",
       "28677     1     11      0.785455   \n",
       "28678     1      2      0.381000   \n",
       "28679     1      2      0.568000   \n",
       "\n",
       "                                                 artists  danceability  \\\n",
       "0                       \"Cats\" 1981 Original London Cast      0.467222   \n",
       "1                              \"Cats\" 1983 Broadway Cast      0.441731   \n",
       "2            \"Fiddler On The Roof” Motion Picture Chorus      0.348286   \n",
       "3         \"Fiddler On The Roof” Motion Picture Orchestra      0.425074   \n",
       "4      \"Joseph And The Amazing Technicolor Dreamcoat\"...      0.467143   \n",
       "...                                                  ...           ...   \n",
       "28675                                                麥志誠      0.356000   \n",
       "28676                                                黃品源      0.578000   \n",
       "28677                                                黃國隆      0.570818   \n",
       "28678                                                 黑豹      0.353000   \n",
       "28679                                                조정현      0.447000   \n",
       "\n",
       "         duration_ms    energy  instrumentalness  liveness   loudness  \\\n",
       "0      250318.555556  0.394003          0.011400  0.290833 -14.448000   \n",
       "1      287280.000000  0.406808          0.081158  0.315215 -10.690000   \n",
       "2      328920.000000  0.286571          0.024593  0.325786 -15.230714   \n",
       "3      262890.962963  0.245770          0.073587  0.275481 -15.639370   \n",
       "4      270436.142857  0.488286          0.009400  0.195000 -10.236714   \n",
       "...              ...       ...               ...       ...        ...   \n",
       "28675  198773.000000  0.306000          0.008970  0.108000 -10.119000   \n",
       "28676  293840.000000  0.334000          0.000006  0.067500 -11.974000   \n",
       "28677  174582.727273  0.148400          0.000083  0.142191 -21.610091   \n",
       "28678  316160.000000  0.686000          0.000000  0.056800  -9.103000   \n",
       "28679  237688.000000  0.215000          0.000001  0.064900 -16.478000   \n",
       "\n",
       "       speechiness       tempo   valence  popularity  key  rating  \n",
       "0         0.210389  117.518111  0.389500   38.333333    5       2  \n",
       "1         0.176212  103.044154  0.268865   30.576923    5       2  \n",
       "2         0.118514   77.375857  0.354857   34.857143    0       2  \n",
       "3         0.123200   88.667630  0.372030   34.851852    0       2  \n",
       "4         0.098543  122.835857  0.482286   43.000000    5       3  \n",
       "...            ...         ...       ...         ...  ...     ...  \n",
       "28675     0.027700  150.049000  0.328000   35.000000   10       2  \n",
       "28676     0.026700  135.934000  0.243000   48.000000    9       3  \n",
       "28677     0.054355  119.586273  0.741273   23.000000    5       2  \n",
       "28678     0.039500  200.341000  0.352000   35.000000   11       2  \n",
       "28679     0.027200   71.979000  0.177000   31.000000   10       2  \n",
       "\n",
       "[28680 rows x 16 columns]"
      ]
     },
     "execution_count": 15,
     "metadata": {},
     "output_type": "execute_result"
    }
   ],
   "source": [
    "music_data"
   ]
  },
  {
   "cell_type": "code",
   "execution_count": 16,
   "metadata": {},
   "outputs": [],
   "source": [
    "rating_df = pd.DataFrame().assign(artist_name=music_data['artists'], rating = music_data['rating'])\n"
   ]
  },
  {
   "cell_type": "code",
   "execution_count": 17,
   "metadata": {},
   "outputs": [
    {
     "data": {
      "text/html": [
       "<div>\n",
       "<style scoped>\n",
       "    .dataframe tbody tr th:only-of-type {\n",
       "        vertical-align: middle;\n",
       "    }\n",
       "\n",
       "    .dataframe tbody tr th {\n",
       "        vertical-align: top;\n",
       "    }\n",
       "\n",
       "    .dataframe thead th {\n",
       "        text-align: right;\n",
       "    }\n",
       "</style>\n",
       "<table border=\"1\" class=\"dataframe\">\n",
       "  <thead>\n",
       "    <tr style=\"text-align: right;\">\n",
       "      <th></th>\n",
       "      <th>artist_name</th>\n",
       "      <th>rating</th>\n",
       "    </tr>\n",
       "  </thead>\n",
       "  <tbody>\n",
       "    <tr>\n",
       "      <th>0</th>\n",
       "      <td>\"Cats\" 1981 Original London Cast</td>\n",
       "      <td>2</td>\n",
       "    </tr>\n",
       "    <tr>\n",
       "      <th>1</th>\n",
       "      <td>\"Cats\" 1983 Broadway Cast</td>\n",
       "      <td>2</td>\n",
       "    </tr>\n",
       "    <tr>\n",
       "      <th>2</th>\n",
       "      <td>\"Fiddler On The Roof” Motion Picture Chorus</td>\n",
       "      <td>2</td>\n",
       "    </tr>\n",
       "    <tr>\n",
       "      <th>3</th>\n",
       "      <td>\"Fiddler On The Roof” Motion Picture Orchestra</td>\n",
       "      <td>2</td>\n",
       "    </tr>\n",
       "    <tr>\n",
       "      <th>4</th>\n",
       "      <td>\"Joseph And The Amazing Technicolor Dreamcoat\"...</td>\n",
       "      <td>3</td>\n",
       "    </tr>\n",
       "    <tr>\n",
       "      <th>...</th>\n",
       "      <td>...</td>\n",
       "      <td>...</td>\n",
       "    </tr>\n",
       "    <tr>\n",
       "      <th>28675</th>\n",
       "      <td>麥志誠</td>\n",
       "      <td>2</td>\n",
       "    </tr>\n",
       "    <tr>\n",
       "      <th>28676</th>\n",
       "      <td>黃品源</td>\n",
       "      <td>3</td>\n",
       "    </tr>\n",
       "    <tr>\n",
       "      <th>28677</th>\n",
       "      <td>黃國隆</td>\n",
       "      <td>2</td>\n",
       "    </tr>\n",
       "    <tr>\n",
       "      <th>28678</th>\n",
       "      <td>黑豹</td>\n",
       "      <td>2</td>\n",
       "    </tr>\n",
       "    <tr>\n",
       "      <th>28679</th>\n",
       "      <td>조정현</td>\n",
       "      <td>2</td>\n",
       "    </tr>\n",
       "  </tbody>\n",
       "</table>\n",
       "<p>28680 rows × 2 columns</p>\n",
       "</div>"
      ],
      "text/plain": [
       "                                             artist_name  rating\n",
       "0                       \"Cats\" 1981 Original London Cast       2\n",
       "1                              \"Cats\" 1983 Broadway Cast       2\n",
       "2            \"Fiddler On The Roof” Motion Picture Chorus       2\n",
       "3         \"Fiddler On The Roof” Motion Picture Orchestra       2\n",
       "4      \"Joseph And The Amazing Technicolor Dreamcoat\"...       3\n",
       "...                                                  ...     ...\n",
       "28675                                                麥志誠       2\n",
       "28676                                                黃品源       3\n",
       "28677                                                黃國隆       2\n",
       "28678                                                 黑豹       2\n",
       "28679                                                조정현       2\n",
       "\n",
       "[28680 rows x 2 columns]"
      ]
     },
     "execution_count": 17,
     "metadata": {},
     "output_type": "execute_result"
    }
   ],
   "source": [
    "# cleaned_df\n",
    "rating_df"
   ]
  },
  {
   "cell_type": "code",
   "execution_count": 18,
   "metadata": {},
   "outputs": [
    {
     "data": {
      "text/plain": [
       "artist_name    0\n",
       "rating         0\n",
       "dtype: int64"
      ]
     },
     "execution_count": 18,
     "metadata": {},
     "output_type": "execute_result"
    }
   ],
   "source": [
    "#checking if there is a missing values\n",
    "rating_df.isnull().sum()"
   ]
  },
  {
   "attachments": {},
   "cell_type": "markdown",
   "metadata": {},
   "source": [
    "Creating 5 random users against each rating so as to be able to apply collaborative filtering technique i.e via user_id-rating"
   ]
  },
  {
   "cell_type": "code",
   "execution_count": 19,
   "metadata": {},
   "outputs": [],
   "source": [
    "rating_df['user_id'] = [ random.randint(1,5)  for k in rating_df.index]\n"
   ]
  },
  {
   "cell_type": "code",
   "execution_count": 20,
   "metadata": {},
   "outputs": [
    {
     "data": {
      "text/html": [
       "<div>\n",
       "<style scoped>\n",
       "    .dataframe tbody tr th:only-of-type {\n",
       "        vertical-align: middle;\n",
       "    }\n",
       "\n",
       "    .dataframe tbody tr th {\n",
       "        vertical-align: top;\n",
       "    }\n",
       "\n",
       "    .dataframe thead th {\n",
       "        text-align: right;\n",
       "    }\n",
       "</style>\n",
       "<table border=\"1\" class=\"dataframe\">\n",
       "  <thead>\n",
       "    <tr style=\"text-align: right;\">\n",
       "      <th></th>\n",
       "      <th>artist_name</th>\n",
       "      <th>rating</th>\n",
       "      <th>user_id</th>\n",
       "    </tr>\n",
       "  </thead>\n",
       "  <tbody>\n",
       "    <tr>\n",
       "      <th>0</th>\n",
       "      <td>\"Cats\" 1981 Original London Cast</td>\n",
       "      <td>2</td>\n",
       "      <td>4</td>\n",
       "    </tr>\n",
       "    <tr>\n",
       "      <th>1</th>\n",
       "      <td>\"Cats\" 1983 Broadway Cast</td>\n",
       "      <td>2</td>\n",
       "      <td>4</td>\n",
       "    </tr>\n",
       "    <tr>\n",
       "      <th>2</th>\n",
       "      <td>\"Fiddler On The Roof” Motion Picture Chorus</td>\n",
       "      <td>2</td>\n",
       "      <td>2</td>\n",
       "    </tr>\n",
       "    <tr>\n",
       "      <th>3</th>\n",
       "      <td>\"Fiddler On The Roof” Motion Picture Orchestra</td>\n",
       "      <td>2</td>\n",
       "      <td>4</td>\n",
       "    </tr>\n",
       "    <tr>\n",
       "      <th>4</th>\n",
       "      <td>\"Joseph And The Amazing Technicolor Dreamcoat\"...</td>\n",
       "      <td>3</td>\n",
       "      <td>3</td>\n",
       "    </tr>\n",
       "    <tr>\n",
       "      <th>...</th>\n",
       "      <td>...</td>\n",
       "      <td>...</td>\n",
       "      <td>...</td>\n",
       "    </tr>\n",
       "    <tr>\n",
       "      <th>28675</th>\n",
       "      <td>麥志誠</td>\n",
       "      <td>2</td>\n",
       "      <td>2</td>\n",
       "    </tr>\n",
       "    <tr>\n",
       "      <th>28676</th>\n",
       "      <td>黃品源</td>\n",
       "      <td>3</td>\n",
       "      <td>1</td>\n",
       "    </tr>\n",
       "    <tr>\n",
       "      <th>28677</th>\n",
       "      <td>黃國隆</td>\n",
       "      <td>2</td>\n",
       "      <td>3</td>\n",
       "    </tr>\n",
       "    <tr>\n",
       "      <th>28678</th>\n",
       "      <td>黑豹</td>\n",
       "      <td>2</td>\n",
       "      <td>5</td>\n",
       "    </tr>\n",
       "    <tr>\n",
       "      <th>28679</th>\n",
       "      <td>조정현</td>\n",
       "      <td>2</td>\n",
       "      <td>2</td>\n",
       "    </tr>\n",
       "  </tbody>\n",
       "</table>\n",
       "<p>28680 rows × 3 columns</p>\n",
       "</div>"
      ],
      "text/plain": [
       "                                             artist_name  rating  user_id\n",
       "0                       \"Cats\" 1981 Original London Cast       2        4\n",
       "1                              \"Cats\" 1983 Broadway Cast       2        4\n",
       "2            \"Fiddler On The Roof” Motion Picture Chorus       2        2\n",
       "3         \"Fiddler On The Roof” Motion Picture Orchestra       2        4\n",
       "4      \"Joseph And The Amazing Technicolor Dreamcoat\"...       3        3\n",
       "...                                                  ...     ...      ...\n",
       "28675                                                麥志誠       2        2\n",
       "28676                                                黃品源       3        1\n",
       "28677                                                黃國隆       2        3\n",
       "28678                                                 黑豹       2        5\n",
       "28679                                                조정현       2        2\n",
       "\n",
       "[28680 rows x 3 columns]"
      ]
     },
     "execution_count": 20,
     "metadata": {},
     "output_type": "execute_result"
    }
   ],
   "source": [
    "rating_df"
   ]
  },
  {
   "attachments": {},
   "cell_type": "markdown",
   "metadata": {},
   "source": [
    "Making collaborative recommendation system based on ratings recieved for each user.\n",
    "1. Each user will be a column with each artist being in the row. In each value(Row-column in the matrix), we will assign rating recieved by each user for each artist.\n",
    "2. We'll only consider the users that have given most ratings to build our recommendation system. Ignoring the sparse ones but hopefully in this case, we won't have to eliminate users via any such threshold.\n",
    "3. We'll only consider those artists that have recieved a rating. It can be set to a threshold too."
   ]
  },
  {
   "cell_type": "code",
   "execution_count": 21,
   "metadata": {},
   "outputs": [
    {
     "data": {
      "text/plain": [
       "user_id\n",
       "1    5711\n",
       "2    5682\n",
       "3    5787\n",
       "4    5683\n",
       "5    5817\n",
       "Name: rating, dtype: int64"
      ]
     },
     "execution_count": 21,
     "metadata": {},
     "output_type": "execute_result"
    }
   ],
   "source": [
    "# keeping users that have atleast counted 1000 ratings\n",
    "rating_df.groupby('user_id').count()['rating']"
   ]
  },
  {
   "cell_type": "code",
   "execution_count": 22,
   "metadata": {},
   "outputs": [],
   "source": [
    "# optional,pruning - Since each of the user have more than 1000 ratings.\n",
    "\n",
    "num = rating_df.groupby('user_id').count()['rating'] >1000\n",
    "qualified_users = num.index"
   ]
  },
  {
   "cell_type": "code",
   "execution_count": 23,
   "metadata": {},
   "outputs": [
    {
     "name": "stdout",
     "output_type": "stream",
     "text": [
      "Int64Index([1, 2, 3, 4, 5], dtype='int64', name='user_id')\n"
     ]
    }
   ],
   "source": [
    "print(qualified_users)"
   ]
  },
  {
   "cell_type": "code",
   "execution_count": 24,
   "metadata": {},
   "outputs": [],
   "source": [
    "# filtering\n",
    "pruned_df = rating_df[rating_df['user_id'].isin(qualified_users)]"
   ]
  },
  {
   "cell_type": "code",
   "execution_count": 25,
   "metadata": {},
   "outputs": [
    {
     "data": {
      "text/html": [
       "<div>\n",
       "<style scoped>\n",
       "    .dataframe tbody tr th:only-of-type {\n",
       "        vertical-align: middle;\n",
       "    }\n",
       "\n",
       "    .dataframe tbody tr th {\n",
       "        vertical-align: top;\n",
       "    }\n",
       "\n",
       "    .dataframe thead th {\n",
       "        text-align: right;\n",
       "    }\n",
       "</style>\n",
       "<table border=\"1\" class=\"dataframe\">\n",
       "  <thead>\n",
       "    <tr style=\"text-align: right;\">\n",
       "      <th></th>\n",
       "      <th>artist_name</th>\n",
       "      <th>rating</th>\n",
       "      <th>user_id</th>\n",
       "    </tr>\n",
       "  </thead>\n",
       "  <tbody>\n",
       "    <tr>\n",
       "      <th>0</th>\n",
       "      <td>\"Cats\" 1981 Original London Cast</td>\n",
       "      <td>2</td>\n",
       "      <td>4</td>\n",
       "    </tr>\n",
       "    <tr>\n",
       "      <th>1</th>\n",
       "      <td>\"Cats\" 1983 Broadway Cast</td>\n",
       "      <td>2</td>\n",
       "      <td>4</td>\n",
       "    </tr>\n",
       "    <tr>\n",
       "      <th>2</th>\n",
       "      <td>\"Fiddler On The Roof” Motion Picture Chorus</td>\n",
       "      <td>2</td>\n",
       "      <td>2</td>\n",
       "    </tr>\n",
       "    <tr>\n",
       "      <th>3</th>\n",
       "      <td>\"Fiddler On The Roof” Motion Picture Orchestra</td>\n",
       "      <td>2</td>\n",
       "      <td>4</td>\n",
       "    </tr>\n",
       "    <tr>\n",
       "      <th>4</th>\n",
       "      <td>\"Joseph And The Amazing Technicolor Dreamcoat\"...</td>\n",
       "      <td>3</td>\n",
       "      <td>3</td>\n",
       "    </tr>\n",
       "    <tr>\n",
       "      <th>...</th>\n",
       "      <td>...</td>\n",
       "      <td>...</td>\n",
       "      <td>...</td>\n",
       "    </tr>\n",
       "    <tr>\n",
       "      <th>28675</th>\n",
       "      <td>麥志誠</td>\n",
       "      <td>2</td>\n",
       "      <td>2</td>\n",
       "    </tr>\n",
       "    <tr>\n",
       "      <th>28676</th>\n",
       "      <td>黃品源</td>\n",
       "      <td>3</td>\n",
       "      <td>1</td>\n",
       "    </tr>\n",
       "    <tr>\n",
       "      <th>28677</th>\n",
       "      <td>黃國隆</td>\n",
       "      <td>2</td>\n",
       "      <td>3</td>\n",
       "    </tr>\n",
       "    <tr>\n",
       "      <th>28678</th>\n",
       "      <td>黑豹</td>\n",
       "      <td>2</td>\n",
       "      <td>5</td>\n",
       "    </tr>\n",
       "    <tr>\n",
       "      <th>28679</th>\n",
       "      <td>조정현</td>\n",
       "      <td>2</td>\n",
       "      <td>2</td>\n",
       "    </tr>\n",
       "  </tbody>\n",
       "</table>\n",
       "<p>28680 rows × 3 columns</p>\n",
       "</div>"
      ],
      "text/plain": [
       "                                             artist_name  rating  user_id\n",
       "0                       \"Cats\" 1981 Original London Cast       2        4\n",
       "1                              \"Cats\" 1983 Broadway Cast       2        4\n",
       "2            \"Fiddler On The Roof” Motion Picture Chorus       2        2\n",
       "3         \"Fiddler On The Roof” Motion Picture Orchestra       2        4\n",
       "4      \"Joseph And The Amazing Technicolor Dreamcoat\"...       3        3\n",
       "...                                                  ...     ...      ...\n",
       "28675                                                麥志誠       2        2\n",
       "28676                                                黃品源       3        1\n",
       "28677                                                黃國隆       2        3\n",
       "28678                                                 黑豹       2        5\n",
       "28679                                                조정현       2        2\n",
       "\n",
       "[28680 rows x 3 columns]"
      ]
     },
     "execution_count": 25,
     "metadata": {},
     "output_type": "execute_result"
    }
   ],
   "source": [
    "pruned_df"
   ]
  },
  {
   "cell_type": "code",
   "execution_count": 26,
   "metadata": {},
   "outputs": [],
   "source": [
    "# step 2-\n",
    "#filtering artists\n",
    "#pruned_df.groupby('artist_name').count()['artist_name']>=1"
   ]
  },
  {
   "cell_type": "code",
   "execution_count": 27,
   "metadata": {},
   "outputs": [],
   "source": [
    "#creating the matrix for collaborative filtering\n",
    "final_table = pruned_df.pivot_table(index='artist_name', columns='user_id', values='rating')"
   ]
  },
  {
   "cell_type": "code",
   "execution_count": 28,
   "metadata": {},
   "outputs": [],
   "source": [
    "final_table.fillna(0,inplace=True)"
   ]
  },
  {
   "cell_type": "code",
   "execution_count": 29,
   "metadata": {},
   "outputs": [
    {
     "data": {
      "text/html": [
       "<div>\n",
       "<style scoped>\n",
       "    .dataframe tbody tr th:only-of-type {\n",
       "        vertical-align: middle;\n",
       "    }\n",
       "\n",
       "    .dataframe tbody tr th {\n",
       "        vertical-align: top;\n",
       "    }\n",
       "\n",
       "    .dataframe thead th {\n",
       "        text-align: right;\n",
       "    }\n",
       "</style>\n",
       "<table border=\"1\" class=\"dataframe\">\n",
       "  <thead>\n",
       "    <tr style=\"text-align: right;\">\n",
       "      <th>user_id</th>\n",
       "      <th>1</th>\n",
       "      <th>2</th>\n",
       "      <th>3</th>\n",
       "      <th>4</th>\n",
       "      <th>5</th>\n",
       "    </tr>\n",
       "    <tr>\n",
       "      <th>artist_name</th>\n",
       "      <th></th>\n",
       "      <th></th>\n",
       "      <th></th>\n",
       "      <th></th>\n",
       "      <th></th>\n",
       "    </tr>\n",
       "  </thead>\n",
       "  <tbody>\n",
       "    <tr>\n",
       "      <th>\"Cats\" 1981 Original London Cast</th>\n",
       "      <td>0.0</td>\n",
       "      <td>0.0</td>\n",
       "      <td>0.0</td>\n",
       "      <td>2.0</td>\n",
       "      <td>0.0</td>\n",
       "    </tr>\n",
       "    <tr>\n",
       "      <th>\"Cats\" 1983 Broadway Cast</th>\n",
       "      <td>0.0</td>\n",
       "      <td>0.0</td>\n",
       "      <td>0.0</td>\n",
       "      <td>2.0</td>\n",
       "      <td>0.0</td>\n",
       "    </tr>\n",
       "    <tr>\n",
       "      <th>\"Fiddler On The Roof” Motion Picture Chorus</th>\n",
       "      <td>0.0</td>\n",
       "      <td>2.0</td>\n",
       "      <td>0.0</td>\n",
       "      <td>0.0</td>\n",
       "      <td>0.0</td>\n",
       "    </tr>\n",
       "    <tr>\n",
       "      <th>\"Fiddler On The Roof” Motion Picture Orchestra</th>\n",
       "      <td>0.0</td>\n",
       "      <td>0.0</td>\n",
       "      <td>0.0</td>\n",
       "      <td>2.0</td>\n",
       "      <td>0.0</td>\n",
       "    </tr>\n",
       "    <tr>\n",
       "      <th>\"Joseph And The Amazing Technicolor Dreamcoat\" 1991 London Cast</th>\n",
       "      <td>0.0</td>\n",
       "      <td>0.0</td>\n",
       "      <td>3.0</td>\n",
       "      <td>0.0</td>\n",
       "      <td>0.0</td>\n",
       "    </tr>\n",
       "    <tr>\n",
       "      <th>...</th>\n",
       "      <td>...</td>\n",
       "      <td>...</td>\n",
       "      <td>...</td>\n",
       "      <td>...</td>\n",
       "      <td>...</td>\n",
       "    </tr>\n",
       "    <tr>\n",
       "      <th>麥志誠</th>\n",
       "      <td>0.0</td>\n",
       "      <td>2.0</td>\n",
       "      <td>0.0</td>\n",
       "      <td>0.0</td>\n",
       "      <td>0.0</td>\n",
       "    </tr>\n",
       "    <tr>\n",
       "      <th>黃品源</th>\n",
       "      <td>3.0</td>\n",
       "      <td>0.0</td>\n",
       "      <td>0.0</td>\n",
       "      <td>0.0</td>\n",
       "      <td>0.0</td>\n",
       "    </tr>\n",
       "    <tr>\n",
       "      <th>黃國隆</th>\n",
       "      <td>0.0</td>\n",
       "      <td>0.0</td>\n",
       "      <td>2.0</td>\n",
       "      <td>0.0</td>\n",
       "      <td>0.0</td>\n",
       "    </tr>\n",
       "    <tr>\n",
       "      <th>黑豹</th>\n",
       "      <td>0.0</td>\n",
       "      <td>0.0</td>\n",
       "      <td>0.0</td>\n",
       "      <td>0.0</td>\n",
       "      <td>2.0</td>\n",
       "    </tr>\n",
       "    <tr>\n",
       "      <th>조정현</th>\n",
       "      <td>0.0</td>\n",
       "      <td>2.0</td>\n",
       "      <td>0.0</td>\n",
       "      <td>0.0</td>\n",
       "      <td>0.0</td>\n",
       "    </tr>\n",
       "  </tbody>\n",
       "</table>\n",
       "<p>28680 rows × 5 columns</p>\n",
       "</div>"
      ],
      "text/plain": [
       "user_id                                               1    2    3    4    5\n",
       "artist_name                                                                \n",
       "\"Cats\" 1981 Original London Cast                    0.0  0.0  0.0  2.0  0.0\n",
       "\"Cats\" 1983 Broadway Cast                           0.0  0.0  0.0  2.0  0.0\n",
       "\"Fiddler On The Roof” Motion Picture Chorus         0.0  2.0  0.0  0.0  0.0\n",
       "\"Fiddler On The Roof” Motion Picture Orchestra      0.0  0.0  0.0  2.0  0.0\n",
       "\"Joseph And The Amazing Technicolor Dreamcoat\" ...  0.0  0.0  3.0  0.0  0.0\n",
       "...                                                 ...  ...  ...  ...  ...\n",
       "麥志誠                                                 0.0  2.0  0.0  0.0  0.0\n",
       "黃品源                                                 3.0  0.0  0.0  0.0  0.0\n",
       "黃國隆                                                 0.0  0.0  2.0  0.0  0.0\n",
       "黑豹                                                  0.0  0.0  0.0  0.0  2.0\n",
       "조정현                                                 0.0  2.0  0.0  0.0  0.0\n",
       "\n",
       "[28680 rows x 5 columns]"
      ]
     },
     "execution_count": 29,
     "metadata": {},
     "output_type": "execute_result"
    }
   ],
   "source": [
    "final_table"
   ]
  },
  {
   "attachments": {},
   "cell_type": "markdown",
   "metadata": {},
   "source": [
    "# Analysis and Model Building"
   ]
  },
  {
   "cell_type": "code",
   "execution_count": 30,
   "metadata": {},
   "outputs": [],
   "source": [
    "#calculating distance(inter) \n",
    "from sklearn.metrics.pairwise import cosine_similarity\n",
    "\n",
    "similarity_scores = cosine_similarity(final_table)"
   ]
  },
  {
   "cell_type": "code",
   "execution_count": 31,
   "metadata": {},
   "outputs": [
    {
     "data": {
      "text/plain": [
       "array([1., 1., 0., ..., 0., 0., 0.])"
      ]
     },
     "execution_count": 31,
     "metadata": {},
     "output_type": "execute_result"
    }
   ],
   "source": [
    "#showing similairy score of first artist with every other artist\n",
    "similarity_scores[0]"
   ]
  },
  {
   "cell_type": "code",
   "execution_count": 32,
   "metadata": {},
   "outputs": [
    {
     "data": {
      "text/plain": [
       "(28680, 28680)"
      ]
     },
     "execution_count": 32,
     "metadata": {},
     "output_type": "execute_result"
    }
   ],
   "source": [
    "similarity_scores.shape"
   ]
  },
  {
   "cell_type": "code",
   "execution_count": 33,
   "metadata": {},
   "outputs": [],
   "source": [
    "# creating recommender function to suggest top 10 artosts.\n",
    "def recommender(artist_name):\n",
    "    #1. fetching index\n",
    "    idx = np.where(final_table.index==artist_name)[0][0]\n",
    "    #2. finding its similarity score\n",
    "    distances = similarity_scores[idx]\n",
    "    #3. finding index and similarity score by sorting on similarity scores\n",
    "    similar_artists = sorted(list(enumerate(similarity_scores[idx])), key=lambda x:x[1],reverse=True)[1:10]#ignoring 0th index since 0 is artist itself\n",
    "    final_output = []\n",
    "    for i in similar_artists:\n",
    "        final_output.append(final_table.index[i[0]])\n",
    "    \n",
    "    return final_output        "
   ]
  },
  {
   "cell_type": "code",
   "execution_count": 34,
   "metadata": {},
   "outputs": [
    {
     "name": "stdout",
     "output_type": "stream",
     "text": [
      "Aerosmith\n"
     ]
    }
   ],
   "source": [
    "artist_name = pruned_df['artist_name'][424]\n",
    "print(artist_name)"
   ]
  },
  {
   "cell_type": "code",
   "execution_count": 35,
   "metadata": {},
   "outputs": [
    {
     "data": {
      "text/plain": [
       "['\"Cats\" 1983 Broadway Cast',\n",
       " '\"Fiddler On The Roof” Motion Picture Orchestra',\n",
       " '$NOT',\n",
       " '$tupid Young',\n",
       " '(Con La Participación de Marc Anthony)',\n",
       " '(G)I-DLE',\n",
       " '...Bender',\n",
       " '12 Stones',\n",
       " '1986 Omega Tribe']"
      ]
     },
     "execution_count": 35,
     "metadata": {},
     "output_type": "execute_result"
    }
   ],
   "source": [
    "#evaluating function\n",
    "recommender(artist_name)"
   ]
  },
  {
   "cell_type": "code",
   "execution_count": 36,
   "metadata": {},
   "outputs": [],
   "source": [
    "def compressed_pickle(title, data):\n",
    "    with bz2.BZ2File(title + '.pbz2', 'w') as f: \n",
    "        cPickle.dump(data, f,protocol=4)\n"
   ]
  },
  {
   "cell_type": "code",
   "execution_count": null,
   "metadata": {},
   "outputs": [],
   "source": [
    "compressed_pickle('similarity_scores',similarity_scores)"
   ]
  },
  {
   "cell_type": "code",
   "execution_count": 37,
   "metadata": {},
   "outputs": [],
   "source": [
    "compressed_pickle('rating_df',rating_df)"
   ]
  },
  {
   "cell_type": "code",
   "execution_count": 38,
   "metadata": {},
   "outputs": [],
   "source": [
    "compressed_pickle('final_table',final_table)"
   ]
  },
  {
   "cell_type": "code",
   "execution_count": null,
   "metadata": {},
   "outputs": [],
   "source": []
  }
 ],
 "metadata": {
  "kernelspec": {
   "display_name": "dl",
   "language": "python",
   "name": "python3"
  },
  "language_info": {
   "codemirror_mode": {
    "name": "ipython",
    "version": 3
   },
   "file_extension": ".py",
   "mimetype": "text/x-python",
   "name": "python",
   "nbconvert_exporter": "python",
   "pygments_lexer": "ipython3",
   "version": "3.7.11"
  },
  "orig_nbformat": 4,
  "vscode": {
   "interpreter": {
    "hash": "50052c996937e9a0e161d422489677fdaadc23d756ac209b7397e80e5ea8cea0"
   }
  }
 },
 "nbformat": 4,
 "nbformat_minor": 2
}
